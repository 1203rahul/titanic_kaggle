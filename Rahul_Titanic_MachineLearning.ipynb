{
 "cells": [
  {
   "cell_type": "markdown",
   "metadata": {},
   "source": [
    "# TITANIC DATASET\n"
   ]
  },
  {
   "cell_type": "code",
   "execution_count": 1,
   "metadata": {},
   "outputs": [],
   "source": [
    "#Loading the packages\n",
    "import pandas as pd\n",
    "import numpy as np\n",
    "import seaborn as sns\n",
    "import matplotlib.pyplot as plt\n",
    "%matplotlib inline"
   ]
  },
  {
   "cell_type": "code",
   "execution_count": 2,
   "metadata": {},
   "outputs": [],
   "source": [
    "#Loading the datasets\n",
    "df = pd.read_csv('train.csv')\n",
    "sample = pd.read_csv('gender_submission.csv')\n",
    "test = pd.read_csv('test.csv')\n",
    "data = df.append(test, sort = False)"
   ]
  },
  {
   "cell_type": "code",
   "execution_count": 3,
   "metadata": {},
   "outputs": [
    {
     "data": {
      "text/plain": [
       "PassengerId    1309\n",
       "Survived        891\n",
       "Pclass         1309\n",
       "Name           1309\n",
       "Sex            1309\n",
       "Age            1046\n",
       "SibSp          1309\n",
       "Parch          1309\n",
       "Ticket         1309\n",
       "Fare           1308\n",
       "Cabin           295\n",
       "Embarked       1307\n",
       "dtype: int64"
      ]
     },
     "execution_count": 3,
     "metadata": {},
     "output_type": "execute_result"
    }
   ],
   "source": [
    "data.count()"
   ]
  },
  {
   "cell_type": "code",
   "execution_count": 4,
   "metadata": {},
   "outputs": [
    {
     "data": {
      "text/plain": [
       "Cabin          1014\n",
       "Survived        418\n",
       "Age             263\n",
       "Embarked          2\n",
       "Fare              1\n",
       "Ticket            0\n",
       "Parch             0\n",
       "SibSp             0\n",
       "Sex               0\n",
       "Name              0\n",
       "Pclass            0\n",
       "PassengerId       0\n",
       "Name: Missing Count, dtype: int64"
      ]
     },
     "execution_count": 4,
     "metadata": {},
     "output_type": "execute_result"
    }
   ],
   "source": [
    "# Finding total missing values\n",
    "missing = pd.concat([data.isnull().sum(),data.isnull().count()],axis = 1,keys=['Missing Count','Total Count'])\n",
    "missing['Missing Count'].sort_values(ascending = False)"
   ]
  },
  {
   "cell_type": "code",
   "execution_count": 5,
   "metadata": {},
   "outputs": [
    {
     "data": {
      "text/plain": [
       "Index(['PassengerId', 'Survived', 'Pclass', 'Name', 'Sex', 'Age', 'SibSp',\n",
       "       'Parch', 'Ticket', 'Fare', 'Cabin', 'Embarked'],\n",
       "      dtype='object')"
      ]
     },
     "execution_count": 5,
     "metadata": {},
     "output_type": "execute_result"
    }
   ],
   "source": [
    "data.columns"
   ]
  },
  {
   "cell_type": "code",
   "execution_count": 6,
   "metadata": {},
   "outputs": [],
   "source": [
    "# Grouping people as per the Ticket Number\n",
    "tick = pd.DataFrame(data.Ticket.value_counts())\n",
    "tick.rename(columns={'Ticket':'TicketCount'},inplace=True)\n",
    "tick['TicketID']=pd.Categorical(tick.index).codes\n",
    "tick.loc[tick.TicketCount <3 , 'TicketID'] = -1\n",
    "data = pd.merge(left=data,right=tick,left_on='Ticket',right_index=True,how='left',sort='False')"
   ]
  },
  {
   "cell_type": "code",
   "execution_count": 7,
   "metadata": {},
   "outputs": [],
   "source": [
    "data.drop(['TicketCount','Ticket'],axis=1,inplace=True)"
   ]
  },
  {
   "cell_type": "code",
   "execution_count": 8,
   "metadata": {},
   "outputs": [
    {
     "data": {
      "text/html": [
       "<div>\n",
       "<style scoped>\n",
       "    .dataframe tbody tr th:only-of-type {\n",
       "        vertical-align: middle;\n",
       "    }\n",
       "\n",
       "    .dataframe tbody tr th {\n",
       "        vertical-align: top;\n",
       "    }\n",
       "\n",
       "    .dataframe thead th {\n",
       "        text-align: right;\n",
       "    }\n",
       "</style>\n",
       "<table border=\"1\" class=\"dataframe\">\n",
       "  <thead>\n",
       "    <tr style=\"text-align: right;\">\n",
       "      <th></th>\n",
       "      <th>PassengerId</th>\n",
       "      <th>Survived</th>\n",
       "      <th>Pclass</th>\n",
       "      <th>Name</th>\n",
       "      <th>Sex</th>\n",
       "      <th>Age</th>\n",
       "      <th>SibSp</th>\n",
       "      <th>Parch</th>\n",
       "      <th>Fare</th>\n",
       "      <th>Cabin</th>\n",
       "      <th>Embarked</th>\n",
       "      <th>TicketID</th>\n",
       "    </tr>\n",
       "  </thead>\n",
       "  <tbody>\n",
       "    <tr>\n",
       "      <th>257</th>\n",
       "      <td>258</td>\n",
       "      <td>1.0</td>\n",
       "      <td>1</td>\n",
       "      <td>Cherry, Miss. Gladys</td>\n",
       "      <td>female</td>\n",
       "      <td>30.0</td>\n",
       "      <td>0</td>\n",
       "      <td>0</td>\n",
       "      <td>86.50</td>\n",
       "      <td>B77</td>\n",
       "      <td>S</td>\n",
       "      <td>0</td>\n",
       "    </tr>\n",
       "    <tr>\n",
       "      <th>504</th>\n",
       "      <td>505</td>\n",
       "      <td>1.0</td>\n",
       "      <td>1</td>\n",
       "      <td>Maioni, Miss. Roberta</td>\n",
       "      <td>female</td>\n",
       "      <td>16.0</td>\n",
       "      <td>0</td>\n",
       "      <td>0</td>\n",
       "      <td>86.50</td>\n",
       "      <td>B79</td>\n",
       "      <td>S</td>\n",
       "      <td>0</td>\n",
       "    </tr>\n",
       "    <tr>\n",
       "      <th>759</th>\n",
       "      <td>760</td>\n",
       "      <td>1.0</td>\n",
       "      <td>1</td>\n",
       "      <td>Rothes, the Countess. of (Lucy Noel Martha Dye...</td>\n",
       "      <td>female</td>\n",
       "      <td>33.0</td>\n",
       "      <td>0</td>\n",
       "      <td>0</td>\n",
       "      <td>86.50</td>\n",
       "      <td>B77</td>\n",
       "      <td>S</td>\n",
       "      <td>0</td>\n",
       "    </tr>\n",
       "    <tr>\n",
       "      <th>262</th>\n",
       "      <td>263</td>\n",
       "      <td>0.0</td>\n",
       "      <td>1</td>\n",
       "      <td>Taussig, Mr. Emil</td>\n",
       "      <td>male</td>\n",
       "      <td>52.0</td>\n",
       "      <td>1</td>\n",
       "      <td>1</td>\n",
       "      <td>79.65</td>\n",
       "      <td>E67</td>\n",
       "      <td>S</td>\n",
       "      <td>1</td>\n",
       "    </tr>\n",
       "    <tr>\n",
       "      <th>558</th>\n",
       "      <td>559</td>\n",
       "      <td>1.0</td>\n",
       "      <td>1</td>\n",
       "      <td>Taussig, Mrs. Emil (Tillie Mandelbaum)</td>\n",
       "      <td>female</td>\n",
       "      <td>39.0</td>\n",
       "      <td>1</td>\n",
       "      <td>1</td>\n",
       "      <td>79.65</td>\n",
       "      <td>E67</td>\n",
       "      <td>S</td>\n",
       "      <td>1</td>\n",
       "    </tr>\n",
       "  </tbody>\n",
       "</table>\n",
       "</div>"
      ],
      "text/plain": [
       "     PassengerId  Survived  Pclass  \\\n",
       "257          258       1.0       1   \n",
       "504          505       1.0       1   \n",
       "759          760       1.0       1   \n",
       "262          263       0.0       1   \n",
       "558          559       1.0       1   \n",
       "\n",
       "                                                  Name     Sex   Age  SibSp  \\\n",
       "257                               Cherry, Miss. Gladys  female  30.0      0   \n",
       "504                              Maioni, Miss. Roberta  female  16.0      0   \n",
       "759  Rothes, the Countess. of (Lucy Noel Martha Dye...  female  33.0      0   \n",
       "262                                  Taussig, Mr. Emil    male  52.0      1   \n",
       "558             Taussig, Mrs. Emil (Tillie Mandelbaum)  female  39.0      1   \n",
       "\n",
       "     Parch   Fare Cabin Embarked  TicketID  \n",
       "257      0  86.50   B77        S         0  \n",
       "504      0  86.50   B79        S         0  \n",
       "759      0  86.50   B77        S         0  \n",
       "262      1  79.65   E67        S         1  \n",
       "558      1  79.65   E67        S         1  "
      ]
     },
     "execution_count": 8,
     "metadata": {},
     "output_type": "execute_result"
    }
   ],
   "source": [
    "data.head()"
   ]
  },
  {
   "cell_type": "code",
   "execution_count": 9,
   "metadata": {},
   "outputs": [],
   "source": [
    "#Grouping as per the family name\n",
    "data['Family Name'] = data.Name.apply(lambda x : str.split(x,',')[0])"
   ]
  },
  {
   "cell_type": "code",
   "execution_count": 10,
   "metadata": {},
   "outputs": [],
   "source": [
    "#Creating a feature based on the Title of the name\n",
    "def TitleFunc(data):\n",
    "    sub = {'Col.','Rev.', 'Mr.','Sir.','Jonkheer.', 'Don.','Dona.','Capt.',\n",
    "           'General.','Major.'}\n",
    "    sub1 = {'Miss.','Mme.','Mlle.','Ms.'}\n",
    "    sub2 = {'Mrs.','Countess.','Lady.'}\n",
    "    sub3 = {'Master.'}\n",
    "    sub4 = {'Dr.'}\n",
    "    pattern, pattern1, pattern2, pattern3 = '|'.join(sub), '|'.join(sub1), '|'.join(sub2), '|'.join(sub3)\n",
    "    pattern4 = '|'.join(sub4)\n",
    "    data['Title'] = ''\n",
    "    data.loc[data['Name'].str.contains(pattern),'Title'] = 'Mr.'\n",
    "    data.loc[data['Name'].str.contains(pattern1),'Title'] = 'Miss.'\n",
    "    data.loc[data['Name'].str.contains(pattern2),'Title'] = 'Mrs.'\n",
    "    data.loc[data['Name'].str.contains(pattern3),'Title'] = 'Master.'\n",
    "    data.loc[(data['Name'].str.contains(pattern)) & (data['Age'] <=13),'Title'] = 'Master.'\n",
    "    data.loc[(data['Name'].str.contains(pattern4)) & (data['Sex'] == 'female'),'Title'] = 'Dr.f'\n",
    "    data.loc[(data['Name'].str.contains(pattern4)) & (data['Sex'] == 'male'),'Title'] = 'Dr.m'\n",
    "TitleFunc(data)"
   ]
  },
  {
   "cell_type": "code",
   "execution_count": 11,
   "metadata": {},
   "outputs": [
    {
     "name": "stderr",
     "output_type": "stream",
     "text": [
      "C:\\Users\\Rocker\\Anaconda3\\lib\\site-packages\\scipy\\stats\\stats.py:1713: FutureWarning: Using a non-tuple sequence for multidimensional indexing is deprecated; use `arr[tuple(seq)]` instead of `arr[seq]`. In the future this will be interpreted as an array index, `arr[np.array(seq)]`, which will result either in an error or a different result.\n",
      "  return np.add.reduce(sorted[indexer] * weights, axis=axis) / sumval\n"
     ]
    },
    {
     "data": {
      "image/png": "[encoded data removed]",
      "text/plain": [
       "<Figure size 720x216 with 1 Axes>"
      ]
     },
     "metadata": {},
     "output_type": "display_data"
    }
   ],
   "source": [
    "#How the survival rate depends as per the Title\n",
    "sns.set(style='whitegrid')\n",
    "plt.figure(figsize=(10,3))\n",
    "ax1= sns.barplot(x='Title',y='Survived',data=data)\n"
   ]
  },
  {
   "cell_type": "code",
   "execution_count": 12,
   "metadata": {},
   "outputs": [],
   "source": [
    "# Creating FareCat Title, since High Fare people has more survival chances\n",
    "def FareFunc(data):\n",
    "    data.loc[data['Fare'].isnull(), 'Fare'] = 7            #First fill missing fare by least value\n",
    "    data['FareCat'] = 0\n",
    "    data.loc[data['Fare'] < 8, 'FareCat'] = 0\n",
    "    data.loc[(data['Fare'] >= 8 ) & (data['Fare'] < 16),'FareCat' ] = 1\n",
    "    data.loc[(data['Fare'] >= 16) & (data['Fare'] < 30),'FareCat' ] = 2\n",
    "    data.loc[(data['Fare'] >= 30) & (data['Fare'] < 45),'FareCat' ] = 3\n",
    "    data.loc[(data['Fare'] >= 45) & (data['Fare'] < 80),'FareCat' ] = 4\n",
    "    data.loc[(data['Fare'] >= 80) & (data['Fare'] < 160),'FareCat' ] = 5\n",
    "    data.loc[(data['Fare'] >= 160) & (data['Fare'] < 270),'FareCat' ] = 6\n",
    "    data.loc[(data['Fare'] >= 270), 'FareCat'] = 7\n",
    "FareFunc(data)"
   ]
  },
  {
   "cell_type": "code",
   "execution_count": 13,
   "metadata": {},
   "outputs": [
    {
     "data": {
      "text/plain": [
       "<matplotlib.axes._subplots.AxesSubplot at 0x253b6a11b38>"
      ]
     },
     "execution_count": 13,
     "metadata": {},
     "output_type": "execute_result"
    },
    {
     "data": {
      "image/png": "[encoded data removed]",
      "text/plain": [
       "<Figure size 720x288 with 1 Axes>"
      ]
     },
     "metadata": {},
     "output_type": "display_data"
    }
   ],
   "source": [
    "\n",
    "plt.figure(figsize=(10,4))\n",
    "sns.barplot(x='FareCat', y='Survived',data= data, hue= 'Title')"
   ]
  },
  {
   "cell_type": "code",
   "execution_count": 14,
   "metadata": {},
   "outputs": [
    {
     "data": {
      "text/plain": [
       "Index(['PassengerId', 'Survived', 'Pclass', 'Name', 'Sex', 'Age', 'SibSp',\n",
       "       'Parch', 'Fare', 'Cabin', 'Embarked', 'TicketID', 'Family Name',\n",
       "       'Title', 'FareCat'],\n",
       "      dtype='object')"
      ]
     },
     "execution_count": 14,
     "metadata": {},
     "output_type": "execute_result"
    }
   ],
   "source": [
    "data.columns"
   ]
  },
  {
   "cell_type": "code",
   "execution_count": 15,
   "metadata": {},
   "outputs": [],
   "source": [
    "# Fill missing Age\n",
    "## Lets predict the age of a person and fill the missing Age\n",
    "features = ['Pclass','SibSp','Parch','Fare','TicketID']\n",
    "from sklearn.ensemble import ExtraTreesRegressor as ETRg\n",
    "\n",
    "Etr = ETRg(n_estimators = 200, random_state = 2)\n",
    "AgeX_Train = data[features][data.Age.notnull()]\n",
    "AgeY_Train = data['Age'][data.Age.notnull()]\n",
    "AgeX_Test = data[features][data.Age.isnull()]\n"
   ]
  },
  {
   "cell_type": "code",
   "execution_count": 16,
   "metadata": {},
   "outputs": [],
   "source": [
    "Etr.fit(AgeX_Train,AgeY_Train)\n",
    "\n",
    "AgePred = Etr.predict(AgeX_Test)\n",
    "data.loc[data.Age.isnull(), 'Age'] = AgePred"
   ]
  },
  {
   "cell_type": "code",
   "execution_count": 24,
   "metadata": {},
   "outputs": [
    {
     "data": {
      "text/plain": [
       "PassengerId       0\n",
       "Survived        418\n",
       "Pclass            0\n",
       "Name              0\n",
       "Sex               0\n",
       "Age               0\n",
       "SibSp             0\n",
       "Parch             0\n",
       "Fare              0\n",
       "Cabin          1014\n",
       "Embarked          0\n",
       "TicketID          0\n",
       "Family Name       0\n",
       "Title             0\n",
       "FareCat           0\n",
       "AgeCat            0\n",
       "male              0\n",
       "Q                 0\n",
       "S                 0\n",
       "dtype: int64"
      ]
     },
     "execution_count": 24,
     "metadata": {},
     "output_type": "execute_result"
    }
   ],
   "source": [
    "data.isnull().sum()"
   ]
  },
  {
   "cell_type": "code",
   "execution_count": 18,
   "metadata": {},
   "outputs": [],
   "source": [
    "#Assuming the embarked data to be 'C'\n",
    "data.loc[(data.Embarked.isnull()),'Embarked']= 'C'"
   ]
  },
  {
   "cell_type": "code",
   "execution_count": 19,
   "metadata": {},
   "outputs": [],
   "source": [
    "#Creating a new feature base on the category of the age\n",
    "def AgeCat(data):\n",
    "    data['AgeCat'] = 0\n",
    "    data.loc[(data['Age'] <= 5), 'AgeCat'] = 0\n",
    "    data.loc[(data['Age'] <= 12) & (data['Age'] > 5), 'AgeCat'] = 1\n",
    "    data.loc[(data['Age'] <= 18) & (data['Age'] > 12), 'AgeCat'] = 2\n",
    "    data.loc[(data['Age'] <= 22) & (data['Age'] > 18), 'AgeCat'] = 3\n",
    "    data.loc[(data['Age'] <= 32) & (data['Age'] > 22), 'AgeCat'] = 4\n",
    "    data.loc[(data['Age'] <= 45) & (data['Age'] > 32), 'AgeCat'] = 5\n",
    "    data.loc[(data['Age'] <= 60) & (data['Age'] > 45), 'AgeCat'] = 6\n",
    "    data.loc[(data['Age'] <= 70) & (data['Age'] > 60), 'AgeCat'] = 7\n",
    "    data.loc[(data['Age'] > 70), 'AgeCat'] = 8\n",
    "AgeCat(data)"
   ]
  },
  {
   "cell_type": "code",
   "execution_count": 22,
   "metadata": {},
   "outputs": [],
   "source": [
    "#Creating the categorical features for the sex and embarked\n",
    "sex = pd.get_dummies(data.Sex,drop_first=True)\n",
    "emb = pd.get_dummies(data.Embarked,drop_first=True)"
   ]
  },
  {
   "cell_type": "code",
   "execution_count": 23,
   "metadata": {},
   "outputs": [],
   "source": [
    "#Merging the categorical features\n",
    "data = pd.concat([data,sex,emb],axis=1)"
   ]
  },
  {
   "cell_type": "code",
   "execution_count": 28,
   "metadata": {},
   "outputs": [
    {
     "data": {
      "text/plain": [
       "Index(['PassengerId', 'Survived', 'Pclass', 'Name', 'Age', 'SibSp', 'Parch',\n",
       "       'Fare', 'Cabin', 'TicketID', 'Family Name', 'Title', 'FareCat',\n",
       "       'AgeCat', 'male', 'Q', 'S'],\n",
       "      dtype='object')"
      ]
     },
     "execution_count": 28,
     "metadata": {},
     "output_type": "execute_result"
    }
   ],
   "source": [
    "data.columns"
   ]
  },
  {
   "cell_type": "code",
   "execution_count": 26,
   "metadata": {},
   "outputs": [],
   "source": [
    "feat = ['PassengerId', 'Pclass',  'Age', 'SibSp',\n",
    "       'Parch',  'Fare', 'TicketID',\n",
    "       'FareCat', 'AgeCat', 'Q', 'S', 'male']\n"
   ]
  },
  {
   "cell_type": "code",
   "execution_count": 27,
   "metadata": {},
   "outputs": [],
   "source": [
    "data.drop(['Sex','Embarked'],axis=1,inplace=True)"
   ]
  },
  {
   "cell_type": "code",
   "execution_count": 33,
   "metadata": {},
   "outputs": [],
   "source": [
    "data.dropna(inplace=True)"
   ]
  },
  {
   "cell_type": "code",
   "execution_count": 34,
   "metadata": {},
   "outputs": [
    {
     "name": "stderr",
     "output_type": "stream",
     "text": [
      "C:\\Users\\Rocker\\Anaconda3\\lib\\site-packages\\sklearn\\preprocessing\\data.py:625: DataConversionWarning: Data with input dtype uint8, int16, int64, float64 were all converted to float64 by StandardScaler.\n",
      "  return self.partial_fit(X, y)\n",
      "C:\\Users\\Rocker\\Anaconda3\\lib\\site-packages\\sklearn\\base.py:462: DataConversionWarning: Data with input dtype uint8, int16, int64, float64 were all converted to float64 by StandardScaler.\n",
      "  return self.fit(X, **fit_params).transform(X)\n"
     ]
    }
   ],
   "source": [
    "#Scaling all the features\n",
    "from sklearn.preprocessing import StandardScaler \n",
    "ss = StandardScaler()\n",
    "target = data['Survived'].values\n",
    "data_scaled = ss.fit_transform(data[feat])\n",
    "train = data_scaled[0:891].copy()\n",
    "test = data_scaled[891:].copy()"
   ]
  },
  {
   "cell_type": "code",
   "execution_count": 35,
   "metadata": {},
   "outputs": [],
   "source": [
    "# Checking best features\n",
    "from sklearn.feature_selection import SelectKBest, f_classif\n",
    "selector = SelectKBest(f_classif, len(feat))\n",
    "selector.fit(train, target)\n",
    "scores = -np.log10(selector.pvalues_)\n"
   ]
  },
  {
   "cell_type": "code",
   "execution_count": 43,
   "metadata": {},
   "outputs": [],
   "source": [
    "indices = np.argsort(scores)[::-1]"
   ]
  },
  {
   "cell_type": "code",
   "execution_count": 46,
   "metadata": {},
   "outputs": [
    {
     "name": "stdout",
     "output_type": "stream",
     "text": [
      "Features importance:\n",
      "16.68 male\n",
      "3.35 Age\n",
      "2.87 AgeCat\n",
      "2.68 FareCat\n",
      "1.25 TicketID\n",
      "1.23 SibSp\n",
      "1.19 S\n",
      "1.17 Fare\n",
      "0.93 PassengerId\n",
      "0.32 Q\n",
      "0.23 Parch\n",
      "0.19 Pclass\n"
     ]
    }
   ],
   "source": [
    "print('Features importance:')\n",
    "for i in range(len(scores)):\n",
    "    print('%.2f %s' % (scores[indices[i]], feat[indices[i]]))"
   ]
  },
  {
   "cell_type": "code",
   "execution_count": 50,
   "metadata": {},
   "outputs": [],
   "source": [
    "from sklearn.ensemble import RandomForestClassifier\n",
    "\n",
    "parameters = {'max_depth' : [4,5], \n",
    "              'n_estimators' : [200,500,600,800,1000], \n",
    "              'min_samples_split' : [3,4,5,6],\n",
    "             }\n",
    "RFC = RandomForestClassifier(random_state = 20, n_jobs = -1)\n"
   ]
  },
  {
   "cell_type": "code",
   "execution_count": 51,
   "metadata": {},
   "outputs": [
    {
     "name": "stdout",
     "output_type": "stream",
     "text": [
      "Fitting 10 folds for each of 40 candidates, totalling 400 fits\n"
     ]
    },
    {
     "name": "stderr",
     "output_type": "stream",
     "text": [
      "[Parallel(n_jobs=-1)]: Using backend LokyBackend with 4 concurrent workers.\n",
      "[Parallel(n_jobs=-1)]: Done  42 tasks      | elapsed:   28.4s\n",
      "[Parallel(n_jobs=-1)]: Done 192 tasks      | elapsed:  2.0min\n",
      "[Parallel(n_jobs=-1)]: Done 400 out of 400 | elapsed:  4.2min finished\n",
      "C:\\Users\\Rocker\\Anaconda3\\lib\\site-packages\\sklearn\\model_selection\\_search.py:841: DeprecationWarning: The default of the `iid` parameter will change from True to False in version 0.22 and will be removed in 0.24. This will change numeric results when test-set sizes are unequal.\n",
      "  DeprecationWarning)\n"
     ]
    },
    {
     "data": {
      "text/plain": [
       "GridSearchCV(cv=KFold(n_splits=10, random_state=20, shuffle=False),\n",
       "       error_score='raise-deprecating',\n",
       "       estimator=RandomForestClassifier(bootstrap=True, class_weight=None, criterion='gini',\n",
       "            max_depth=None, max_features='auto', max_leaf_nodes=None,\n",
       "            min_impurity_decrease=0.0, min_impurity_split=None,\n",
       "            min_samples_leaf=1, min_samples_split=2,\n",
       "            min_weight_fraction_leaf=0.0, n_estimators='warn', n_jobs=-1,\n",
       "            oob_score=False, random_state=20, verbose=0, warm_start=False),\n",
       "       fit_params=None, iid='warn', n_jobs=-1,\n",
       "       param_grid={'max_depth': [4, 5], 'n_estimators': [200, 500, 600, 800, 1000], 'min_samples_split': [3, 4, 5, 6]},\n",
       "       pre_dispatch='2*n_jobs', refit=True, return_train_score='warn',\n",
       "       scoring='roc_auc', verbose=1)"
      ]
     },
     "execution_count": 51,
     "metadata": {},
     "output_type": "execute_result"
    }
   ],
   "source": [
    "# Selecting the best parameters bhy Grid search\n",
    "from sklearn.model_selection import KFold, cross_val_score\n",
    "kf = KFold(n_splits = 10, random_state = 20)\n",
    "from sklearn.model_selection import GridSearchCV\n",
    "SrchRFC = GridSearchCV(RFC, parameters, n_jobs = -1, cv = kf, scoring = 'roc_auc',verbose=1)\n",
    "SrchRFC.fit(train, target)"
   ]
  },
  {
   "cell_type": "code",
   "execution_count": 52,
   "metadata": {},
   "outputs": [
    {
     "data": {
      "text/plain": [
       "RandomForestClassifier(bootstrap=True, class_weight=None, criterion='gini',\n",
       "            max_depth=5, max_features='auto', max_leaf_nodes=None,\n",
       "            min_impurity_decrease=0.0, min_impurity_split=None,\n",
       "            min_samples_leaf=1, min_samples_split=4,\n",
       "            min_weight_fraction_leaf=0.0, n_estimators=500, n_jobs=-1,\n",
       "            oob_score=False, random_state=20, verbose=0, warm_start=False)"
      ]
     },
     "execution_count": 52,
     "metadata": {},
     "output_type": "execute_result"
    }
   ],
   "source": [
    "#Deploying the Classifier\n",
    "SrchRFC = RandomForestClassifier(max_depth = 5, min_samples_split = 4, n_estimators = 500,\n",
    "                                 random_state = 20, n_jobs = -1)\n",
    "SrchRFC.fit(train, target)"
   ]
  },
  {
   "cell_type": "code",
   "execution_count": 53,
   "metadata": {},
   "outputs": [
    {
     "data": {
      "text/plain": [
       "0.9117647058823529"
      ]
     },
     "execution_count": 53,
     "metadata": {},
     "output_type": "execute_result"
    }
   ],
   "source": [
    "#Finding the accuracy of the algorithm\n",
    "from sklearn.metrics import accuracy_score\n",
    "prc = SrchRFC.predict(train)\n",
    "accuracy_score(target,prc)"
   ]
  },
  {
   "cell_type": "code",
   "execution_count": null,
   "metadata": {},
   "outputs": [],
   "source": []
  }
 ],
 "metadata": {
  "kernelspec": {
   "display_name": "Python 3",
   "language": "python",
   "name": "python3"
  },
  "language_info": {
   "codemirror_mode": {
    "name": "ipython",
    "version": 3
   },
   "file_extension": ".py",
   "mimetype": "text/x-python",
   "name": "python",
   "nbconvert_exporter": "python",
   "pygments_lexer": "ipython3",
   "version": "3.7.1"
  }
 },
 "nbformat": 4,
 "nbformat_minor": 2
}
